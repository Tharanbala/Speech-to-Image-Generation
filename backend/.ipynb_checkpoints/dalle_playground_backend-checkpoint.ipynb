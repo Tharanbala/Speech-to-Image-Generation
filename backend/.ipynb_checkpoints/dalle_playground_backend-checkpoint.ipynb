{
 "cells": [
  {
   "cell_type": "markdown",
   "metadata": {
    "colab_type": "text",
    "id": "view-in-github"
   },
   "source": [
    "<a href=\"https://colab.research.google.com/github/saharmor/dalle-playground/blob/main/backend/dalle_playground_backend.ipynb\" target=\"_parent\"><img src=\"https://colab.research.google.com/assets/colab-badge.svg\" alt=\"Open In Colab\"/></a>"
   ]
  },
  {
   "cell_type": "markdown",
   "metadata": {
    "id": "118UKH5bWCGa"
   },
   "source": [
    "<center><img src=\"https://em-content.zobj.net/thumbs/240/apple/325/artist_1f9d1-200d-1f3a8.png\" width=\"120\">\n",
    "</center>\n",
    "\n",
    "### <center>Use this notebook to run your text-to-image server</center>\n",
    "### <center> [DALL-E Playground Repository](https://github.com/saharmor/dalle-playground) </center>"
   ]
  },
  {
   "cell_type": "markdown",
   "metadata": {
    "id": "dS8LbaonYm3a"
   },
   "source": [
    "## Install dependencies"
   ]
  },
  {
   "cell_type": "code",
   "execution_count": null,
   "metadata": {
    "id": "MyO_o-lTQn2A"
   },
   "outputs": [],
   "source": [
    "!git clone https://github.com/saharmor/dalle-playground.git\n",
    "!pip install -r dalle-playground/backend/requirements.txt\n",
    "!pip install diffusers[\"torch\"]"
   ]
  },
  {
   "cell_type": "markdown",
   "metadata": {
    "id": "sqF_iNGmmVIC"
   },
   "source": [
    "# Run the backend web server"
   ]
  },
  {
   "cell_type": "code",
   "execution_count": null,
   "metadata": {
    "id": "qrRYWN7qTioY"
   },
   "outputs": [
    {
     "name": "stderr",
     "output_type": "stream",
     "text": [
      "C:\\Users\\thara\\AppData\\Local\\Temp\\ipykernel_26808\\974667106.py:26: DeprecationWarning: setDaemon() is deprecated, set the daemon attribute instead\n",
      "  new_thread.setDaemon(True)\n",
      "Exception in thread Thread-6 (start_cloudflared):\n",
      "Traceback (most recent call last):\n",
      "  File \"C:\\Users\\thara\\AppData\\Local\\Programs\\Python\\Python310\\lib\\threading.py\", line 1016, in _bootstrap_inner\n",
      "    self.run()\n",
      "  File \"C:\\Users\\thara\\AppData\\Local\\Programs\\Python\\Python310\\lib\\threading.py\", line 953, in run\n",
      "    self._target(*self._args, **self._kwargs)\n",
      "  File \"C:\\Users\\thara\\AppData\\Local\\Temp\\ipykernel_26808\\974667106.py\", line 12, in start_cloudflared\n",
      "ModuleNotFoundError: No module named 'flask_cloudflared'\n"
     ]
    }
   ],
   "source": [
    "from threading import Thread, Event\n",
    "\n",
    "app_port = 8000\n",
    "announce_url = None\n",
    "cloudflared_startup = Event()\n",
    "\n",
    "def update_announce_url(url):\n",
    "    global announce_url\n",
    "    announce_url = url\n",
    "\n",
    "def start_cloudflared(port):\n",
    "  from flask_cloudflared import _run_cloudflared\n",
    "  try:\n",
    "    announce_url = _run_cloudflared(port, 8888)\n",
    "  except:\n",
    "    raise\n",
    "  finally:\n",
    "    update_announce_url(announce_url)\n",
    "    cloudflared_startup.set()\n",
    "\n",
    "def run_with_cloudflared(thread):\n",
    "    old_run = thread.run\n",
    "\n",
    "    def new_run(*args, **kwargs):\n",
    "        new_thread = Thread(target = start_cloudflared, args=(app_port, ))\n",
    "        new_thread.setDaemon(True)\n",
    "        new_thread.start()\n",
    "        old_run(*args, **kwargs)\n",
    "\n",
    "    thread.run = new_run\n",
    "\n",
    "def app():\n",
    "  !python app.py --port {app_port} --save_to_disk true --img_format jpeg --output_dir generations\n",
    "\n",
    "if __name__ == '__main__':\n",
    "    t1 = Thread(target = app)\n",
    "    run_with_cloudflared(t1)\n",
    "    t1.start()\n",
    "    cloudflared_startup.wait()\n",
    "    print(f\"Your url is: {announce_url}\")\n",
    "    t1.join()"
   ]
  },
  {
   "cell_type": "markdown",
   "metadata": {
    "id": "UPhc5fgqT_Q0"
   },
   "source": [
    "### Now, take the url you got from cloudflare (should look like `your url is: https://xxxxxx.trycloudflare.com`), replace it within the url here https://saharmor.github.io/dalle-playground/?backendUrl=https://xxxxxx.trycloudflare.com and run it in the browser.\n",
    "\n",
    "### Let the fun begin ✨"
   ]
  },
  {
   "cell_type": "code",
   "execution_count": null,
   "metadata": {},
   "outputs": [],
   "source": [
    "pip install Flask-CloudFlare"
   ]
  }
 ],
 "metadata": {
  "accelerator": "GPU",
  "colab": {
   "include_colab_link": true,
   "provenance": []
  },
  "gpuClass": "standard",
  "kernelspec": {
   "display_name": "Python 3 (ipykernel)",
   "language": "python",
   "name": "python3"
  },
  "language_info": {
   "codemirror_mode": {
    "name": "ipython",
    "version": 3
   },
   "file_extension": ".py",
   "mimetype": "text/x-python",
   "name": "python",
   "nbconvert_exporter": "python",
   "pygments_lexer": "ipython3",
   "version": "3.10.9"
  }
 },
 "nbformat": 4,
 "nbformat_minor": 1
}
